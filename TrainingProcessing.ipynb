{
  "nbformat": 4,
  "nbformat_minor": 0,
  "metadata": {
    "colab": {
      "provenance": [],
      "authorship_tag": "ABX9TyP/5WDzbrMlL7llyINXuMbS",
      "include_colab_link": true
    },
    "kernelspec": {
      "name": "python3",
      "display_name": "Python 3"
    },
    "language_info": {
      "name": "python"
    }
  },
  "cells": [
    {
      "cell_type": "markdown",
      "metadata": {
        "id": "view-in-github",
        "colab_type": "text"
      },
      "source": [
        "<a href=\"https://colab.research.google.com/github/Vicheka6363/Vicheka_ITE_G8A_PP/blob/main/TrainingProcessing.ipynb\" target=\"_parent\"><img src=\"https://colab.research.google.com/assets/colab-badge.svg\" alt=\"Open In Colab\"/></a>"
      ]
    },
    {
      "cell_type": "markdown",
      "source": [
        "#Importing Dataset"
      ],
      "metadata": {
        "id": "s-_cF4-oojvr"
      }
    },
    {
      "cell_type": "code",
      "source": [
        "from google.colab import drive\n",
        "drive.mount('/content/drive')"
      ],
      "metadata": {
        "colab": {
          "base_uri": "https://localhost:8080/"
        },
        "id": "BuIUpio9osIy",
        "outputId": "b896b69f-2011-4885-d658-cc8230482abf"
      },
      "execution_count": 1,
      "outputs": [
        {
          "output_type": "stream",
          "name": "stdout",
          "text": [
            "Mounted at /content/drive\n"
          ]
        }
      ]
    },
    {
      "cell_type": "markdown",
      "source": [
        "[Link for download data set(https://www.kaggle.com/datasets/moltean/fruits)]"
      ],
      "metadata": {
        "id": "NBRlTcBMwxVp"
      }
    },
    {
      "cell_type": "markdown",
      "source": [
        "#Importing Libraries"
      ],
      "metadata": {
        "id": "7bDh3gaHpL7L"
      }
    },
    {
      "cell_type": "code",
      "source": [
        "import tensorflow as tf\n",
        "import matplotlib.pyplot as plt"
      ],
      "metadata": {
        "id": "2pxIxipppWUn"
      },
      "execution_count": 2,
      "outputs": []
    },
    {
      "cell_type": "markdown",
      "source": [
        "#Data Preprocessing"
      ],
      "metadata": {
        "id": "PKurXNvKpjzM"
      }
    },
    {
      "cell_type": "markdown",
      "source": [
        "Training Image Preprocessing"
      ],
      "metadata": {
        "id": "Rczw27sYpsOi"
      }
    },
    {
      "cell_type": "code",
      "source": [
        "training_set = tf.keras.utils.image_dataset_from_directory(\n",
        "    '/content/drive/MyDrive/fruits-360-original-size/Training',\n",
        "    labels=\"inferred\",\n",
        "    label_mode=\"categorical\",\n",
        "    class_names=None,\n",
        "    color_mode=\"rgb\",\n",
        "    batch_size=32,\n",
        "    image_size=(64, 64),\n",
        "    shuffle=True,\n",
        "    seed=None,\n",
        "    validation_split=None,\n",
        "    subset=None,\n",
        "    interpolation=\"bilinear\",\n",
        "    follow_links=False,\n",
        "    crop_to_aspect_ratio=False\n",
        ")"
      ],
      "metadata": {
        "colab": {
          "base_uri": "https://localhost:8080/"
        },
        "id": "itS26rNBpn5m",
        "outputId": "04d0b608-fa29-4089-e1ec-60d1aa87f94a"
      },
      "execution_count": 3,
      "outputs": [
        {
          "output_type": "stream",
          "name": "stdout",
          "text": [
            "Found 6240 files belonging to 24 classes.\n"
          ]
        }
      ]
    },
    {
      "cell_type": "markdown",
      "source": [
        "Validation Image Preprocessing"
      ],
      "metadata": {
        "id": "jBSDdofEqvnZ"
      }
    },
    {
      "cell_type": "code",
      "source": [
        "validation_set = tf.keras.utils.image_dataset_from_directory(\n",
        "    '/content/drive/MyDrive/fruits-360-original-size/Validation',\n",
        "    labels=\"inferred\",\n",
        "    label_mode=\"categorical\",\n",
        "    class_names=None,\n",
        "    color_mode=\"rgb\",\n",
        "    batch_size=32,\n",
        "    image_size=(64, 64),\n",
        "    shuffle=True,\n",
        "    seed=None,\n",
        "    validation_split=None,\n",
        "    subset=None,\n",
        "    interpolation=\"bilinear\",\n",
        "    follow_links=False,\n",
        "    crop_to_aspect_ratio=False\n",
        ")"
      ],
      "metadata": {
        "colab": {
          "base_uri": "https://localhost:8080/"
        },
        "id": "QNmTu9gSq5de",
        "outputId": "9f72a27d-c27e-4a6b-a172-d9ebe8f4420f"
      },
      "execution_count": 4,
      "outputs": [
        {
          "output_type": "stream",
          "name": "stdout",
          "text": [
            "Found 3116 files belonging to 24 classes.\n"
          ]
        }
      ]
    },
    {
      "cell_type": "markdown",
      "source": [
        "#Building Model"
      ],
      "metadata": {
        "id": "8X_9f4xfwXHR"
      }
    },
    {
      "cell_type": "code",
      "source": [
        "cnn = tf.keras.models.Sequential()"
      ],
      "metadata": {
        "id": "DmpWLMs4wfPs"
      },
      "execution_count": 5,
      "outputs": []
    },
    {
      "cell_type": "markdown",
      "source": [
        "Building Convolution Layer"
      ],
      "metadata": {
        "id": "-XDUFcvE4SWC"
      }
    },
    {
      "cell_type": "code",
      "source": [
        "cnn.add(tf.keras.layers.Conv2D(filters=32,kernel_size=3,padding='same',activation='relu',input_shape=[64,64,3]))\n",
        "cnn.add(tf.keras.layers.Conv2D(filters=32,kernel_size=3,activation='relu'))\n",
        "cnn.add(tf.keras.layers.MaxPool2D(pool_size=2,strides=2))"
      ],
      "metadata": {
        "id": "gE6R7fR4w6en"
      },
      "execution_count": 6,
      "outputs": []
    },
    {
      "cell_type": "code",
      "source": [
        "cnn.add(tf.keras.layers.Dropout(0.25))"
      ],
      "metadata": {
        "id": "jG_3YR954dSA"
      },
      "execution_count": 7,
      "outputs": []
    },
    {
      "cell_type": "code",
      "source": [
        "cnn.add(tf.keras.layers.Conv2D(filters=64,kernel_size=3,padding='same',activation='relu'))\n",
        "cnn.add(tf.keras.layers.Conv2D(filters=64,kernel_size=3,activation='relu'))\n",
        "cnn.add(tf.keras.layers.MaxPool2D(pool_size=2,strides=2))"
      ],
      "metadata": {
        "id": "Mmoe8iZ14nBT"
      },
      "execution_count": 8,
      "outputs": []
    },
    {
      "cell_type": "code",
      "source": [
        "cnn.add(tf.keras.layers.Dropout(0.25))"
      ],
      "metadata": {
        "id": "F_g5Akmv46EL"
      },
      "execution_count": 9,
      "outputs": []
    },
    {
      "cell_type": "code",
      "source": [
        "cnn.add(tf.keras.layers.Flatten())"
      ],
      "metadata": {
        "id": "LuBPufIk48tH"
      },
      "execution_count": 10,
      "outputs": []
    },
    {
      "cell_type": "code",
      "source": [
        "cnn.add(tf.keras.layers.Dense(units=512,activation='relu'))"
      ],
      "metadata": {
        "id": "yMH9unEF4_Tl"
      },
      "execution_count": 11,
      "outputs": []
    },
    {
      "cell_type": "code",
      "source": [
        "cnn.add(tf.keras.layers.Dense(units=256,activation='relu'))"
      ],
      "metadata": {
        "id": "2eGkEPTqgHyd"
      },
      "execution_count": 12,
      "outputs": []
    },
    {
      "cell_type": "code",
      "source": [
        "cnn.add(tf.keras.layers.Dropout(0.5)) #To avoid overfitting"
      ],
      "metadata": {
        "id": "JZEsMsFN92BT"
      },
      "execution_count": 13,
      "outputs": []
    },
    {
      "cell_type": "code",
      "source": [
        "cnn.add(tf.keras.layers.Flatten())"
      ],
      "metadata": {
        "id": "t6sDU-OaxtMZ"
      },
      "execution_count": null,
      "outputs": []
    },
    {
      "cell_type": "code",
      "source": [
        "#Output Layer\n",
        "cnn.add(tf.keras.layers.Dense(units=24,activation='softmax'))"
      ],
      "metadata": {
        "id": "vq2tOTbuAAF9"
      },
      "execution_count": 14,
      "outputs": []
    },
    {
      "cell_type": "markdown",
      "source": [
        "#Compilling and Training Phase"
      ],
      "metadata": {
        "id": "3VXpPyexHJup"
      }
    },
    {
      "cell_type": "code",
      "source": [
        "cnn.compile(optimizer='adam',loss='categorical_crossentropy',metrics=['accuracy'])"
      ],
      "metadata": {
        "id": "oPSUK-zXALWV"
      },
      "execution_count": 15,
      "outputs": []
    },
    {
      "cell_type": "code",
      "source": [
        "training_history = cnn.fit(x=training_set,validation_data=validation_set,epochs=30)"
      ],
      "metadata": {
        "colab": {
          "base_uri": "https://localhost:8080/"
        },
        "id": "G6Pz35mhQblM",
        "outputId": "25f255d8-fbb4-4506-e211-1aed27fdba6d"
      },
      "execution_count": 16,
      "outputs": [
        {
          "output_type": "stream",
          "name": "stdout",
          "text": [
            "Epoch 1/30\n",
            "195/195 [==============================] - 949s 5s/step - loss: 3.0228 - accuracy: 0.5808 - val_loss: 0.3028 - val_accuracy: 0.8973\n",
            "Epoch 2/30\n",
            "195/195 [==============================] - 115s 589ms/step - loss: 0.2658 - accuracy: 0.9136 - val_loss: 0.1517 - val_accuracy: 0.9451\n",
            "Epoch 3/30\n",
            "195/195 [==============================] - 109s 555ms/step - loss: 0.1631 - accuracy: 0.9441 - val_loss: 0.0625 - val_accuracy: 0.9811\n",
            "Epoch 4/30\n",
            "195/195 [==============================] - 111s 565ms/step - loss: 0.0807 - accuracy: 0.9758 - val_loss: 0.0153 - val_accuracy: 0.9968\n",
            "Epoch 5/30\n",
            "195/195 [==============================] - 110s 558ms/step - loss: 0.0818 - accuracy: 0.9760 - val_loss: 0.0051 - val_accuracy: 0.9984\n",
            "Epoch 6/30\n",
            "195/195 [==============================] - 117s 600ms/step - loss: 0.0961 - accuracy: 0.9720 - val_loss: 0.0174 - val_accuracy: 0.9984\n",
            "Epoch 7/30\n",
            "195/195 [==============================] - 109s 554ms/step - loss: 0.0966 - accuracy: 0.9705 - val_loss: 0.0085 - val_accuracy: 0.9990\n",
            "Epoch 8/30\n",
            "195/195 [==============================] - 110s 564ms/step - loss: 0.0395 - accuracy: 0.9881 - val_loss: 0.0046 - val_accuracy: 0.9987\n",
            "Epoch 9/30\n",
            "195/195 [==============================] - 110s 561ms/step - loss: 0.0314 - accuracy: 0.9910 - val_loss: 0.0015 - val_accuracy: 1.0000\n",
            "Epoch 10/30\n",
            "195/195 [==============================] - 109s 554ms/step - loss: 0.0292 - accuracy: 0.9909 - val_loss: 0.0012 - val_accuracy: 1.0000\n",
            "Epoch 11/30\n",
            "195/195 [==============================] - 111s 565ms/step - loss: 0.0894 - accuracy: 0.9766 - val_loss: 0.0064 - val_accuracy: 0.9981\n",
            "Epoch 12/30\n",
            "195/195 [==============================] - 117s 597ms/step - loss: 0.0593 - accuracy: 0.9854 - val_loss: 0.0029 - val_accuracy: 0.9997\n",
            "Epoch 13/30\n",
            "195/195 [==============================] - 111s 566ms/step - loss: 0.0378 - accuracy: 0.9889 - val_loss: 1.6471e-04 - val_accuracy: 1.0000\n",
            "Epoch 14/30\n",
            "195/195 [==============================] - 109s 555ms/step - loss: 0.0216 - accuracy: 0.9934 - val_loss: 0.0065 - val_accuracy: 0.9971\n",
            "Epoch 15/30\n",
            "195/195 [==============================] - 112s 568ms/step - loss: 0.0469 - accuracy: 0.9875 - val_loss: 0.0196 - val_accuracy: 0.9907\n",
            "Epoch 16/30\n",
            "195/195 [==============================] - 111s 568ms/step - loss: 0.0290 - accuracy: 0.9915 - val_loss: 0.0113 - val_accuracy: 0.9990\n",
            "Epoch 17/30\n",
            "195/195 [==============================] - 109s 555ms/step - loss: 0.0060 - accuracy: 0.9986 - val_loss: 5.2125e-05 - val_accuracy: 1.0000\n",
            "Epoch 18/30\n",
            "195/195 [==============================] - 110s 561ms/step - loss: 0.0029 - accuracy: 0.9990 - val_loss: 7.3980e-06 - val_accuracy: 1.0000\n",
            "Epoch 19/30\n",
            "195/195 [==============================] - 110s 562ms/step - loss: 0.0953 - accuracy: 0.9784 - val_loss: 0.0019 - val_accuracy: 0.9997\n",
            "Epoch 20/30\n",
            "195/195 [==============================] - 116s 591ms/step - loss: 0.0435 - accuracy: 0.9894 - val_loss: 0.0130 - val_accuracy: 0.9939\n",
            "Epoch 21/30\n",
            "195/195 [==============================] - 110s 560ms/step - loss: 0.0759 - accuracy: 0.9833 - val_loss: 0.0028 - val_accuracy: 0.9997\n",
            "Epoch 22/30\n",
            "195/195 [==============================] - 110s 562ms/step - loss: 0.0354 - accuracy: 0.9909 - val_loss: 4.9639e-04 - val_accuracy: 1.0000\n",
            "Epoch 23/30\n",
            "195/195 [==============================] - 117s 596ms/step - loss: 0.0303 - accuracy: 0.9915 - val_loss: 0.0017 - val_accuracy: 0.9994\n",
            "Epoch 24/30\n",
            "195/195 [==============================] - 110s 564ms/step - loss: 0.0113 - accuracy: 0.9978 - val_loss: 2.1009e-04 - val_accuracy: 1.0000\n",
            "Epoch 25/30\n",
            "195/195 [==============================] - 108s 553ms/step - loss: 0.0917 - accuracy: 0.9779 - val_loss: 0.0024 - val_accuracy: 1.0000\n",
            "Epoch 26/30\n",
            "195/195 [==============================] - 117s 600ms/step - loss: 0.0251 - accuracy: 0.9952 - val_loss: 0.0317 - val_accuracy: 0.9884\n",
            "Epoch 27/30\n",
            "195/195 [==============================] - 110s 560ms/step - loss: 0.0454 - accuracy: 0.9897 - val_loss: 0.0044 - val_accuracy: 0.9997\n",
            "Epoch 28/30\n",
            "195/195 [==============================] - 110s 560ms/step - loss: 0.0377 - accuracy: 0.9918 - val_loss: 4.0947e-05 - val_accuracy: 1.0000\n",
            "Epoch 29/30\n",
            "195/195 [==============================] - 112s 573ms/step - loss: 0.0136 - accuracy: 0.9970 - val_loss: 0.0135 - val_accuracy: 0.9949\n",
            "Epoch 30/30\n",
            "195/195 [==============================] - 117s 596ms/step - loss: 0.0247 - accuracy: 0.9939 - val_loss: 2.4550e-05 - val_accuracy: 1.0000\n"
          ]
        }
      ]
    },
    {
      "cell_type": "markdown",
      "source": [
        "#Saving Model"
      ],
      "metadata": {
        "id": "eXsMvI7hdFuO"
      }
    },
    {
      "cell_type": "code",
      "source": [
        "cnn.save('trained_model.h5')  ## we save train model in to h5 file structure"
      ],
      "metadata": {
        "id": "iraNsLoqQi8s"
      },
      "execution_count": 17,
      "outputs": []
    },
    {
      "cell_type": "markdown",
      "source": [
        "recording history of trained data"
      ],
      "metadata": {
        "id": "IcmkVXgxfY4S"
      }
    },
    {
      "cell_type": "code",
      "source": [
        "training_history.history"
      ],
      "metadata": {
        "colab": {
          "base_uri": "https://localhost:8080/"
        },
        "id": "LjI8j61fePhw",
        "outputId": "64b9dbb6-b989-4cc3-946a-b2fa689a2adc"
      },
      "execution_count": 18,
      "outputs": [
        {
          "output_type": "execute_result",
          "data": {
            "text/plain": [
              "{'loss': [3.0227949619293213,\n",
              "  0.2657555043697357,\n",
              "  0.1631268560886383,\n",
              "  0.08071769028902054,\n",
              "  0.0817774161696434,\n",
              "  0.09613408893346786,\n",
              "  0.09659003466367722,\n",
              "  0.0394638292491436,\n",
              "  0.03138561546802521,\n",
              "  0.029232606291770935,\n",
              "  0.08937470614910126,\n",
              "  0.05927885323762894,\n",
              "  0.03775189816951752,\n",
              "  0.021570000797510147,\n",
              "  0.046870626509189606,\n",
              "  0.02904672548174858,\n",
              "  0.005997863132506609,\n",
              "  0.0029374214354902506,\n",
              "  0.09529994428157806,\n",
              "  0.04349243640899658,\n",
              "  0.07594375312328339,\n",
              "  0.03537397459149361,\n",
              "  0.030260635539889336,\n",
              "  0.011291777715086937,\n",
              "  0.09172985702753067,\n",
              "  0.025119967758655548,\n",
              "  0.0454278402030468,\n",
              "  0.03768927603960037,\n",
              "  0.013601497747004032,\n",
              "  0.024714626371860504],\n",
              " 'accuracy': [0.5807692408561707,\n",
              "  0.9136217832565308,\n",
              "  0.9440705180168152,\n",
              "  0.9758012890815735,\n",
              "  0.9759615659713745,\n",
              "  0.9719551205635071,\n",
              "  0.9705128073692322,\n",
              "  0.9881410002708435,\n",
              "  0.9910256266593933,\n",
              "  0.9908654093742371,\n",
              "  0.9766025543212891,\n",
              "  0.9854166507720947,\n",
              "  0.9889423251152039,\n",
              "  0.9934294819831848,\n",
              "  0.987500011920929,\n",
              "  0.9915063977241516,\n",
              "  0.9985576868057251,\n",
              "  0.9990384578704834,\n",
              "  0.9783653616905212,\n",
              "  0.9894230961799622,\n",
              "  0.9833333492279053,\n",
              "  0.9908654093742371,\n",
              "  0.9915063977241516,\n",
              "  0.9977564215660095,\n",
              "  0.9778845906257629,\n",
              "  0.995192289352417,\n",
              "  0.9897435903549194,\n",
              "  0.9918269515037537,\n",
              "  0.996955156326294,\n",
              "  0.9939102530479431],\n",
              " 'val_loss': [0.30278486013412476,\n",
              "  0.1516978144645691,\n",
              "  0.06249381601810455,\n",
              "  0.01531070377677679,\n",
              "  0.005137694533914328,\n",
              "  0.017416147515177727,\n",
              "  0.008471217006444931,\n",
              "  0.004576736129820347,\n",
              "  0.001496754470281303,\n",
              "  0.0011767734540626407,\n",
              "  0.006443753372877836,\n",
              "  0.002861699555069208,\n",
              "  0.0001647078461246565,\n",
              "  0.006484228186309338,\n",
              "  0.01955644227564335,\n",
              "  0.011307261884212494,\n",
              "  5.212513860897161e-05,\n",
              "  7.398042271233862e-06,\n",
              "  0.0019417691510170698,\n",
              "  0.012951130978763103,\n",
              "  0.0027799473609775305,\n",
              "  0.0004963945248164237,\n",
              "  0.00166861223988235,\n",
              "  0.00021008508338127285,\n",
              "  0.0023672538809478283,\n",
              "  0.0317441001534462,\n",
              "  0.004446910694241524,\n",
              "  4.0947008528746665e-05,\n",
              "  0.013542279601097107,\n",
              "  2.454958485031966e-05],\n",
              " 'val_accuracy': [0.8973042368888855,\n",
              "  0.9451219439506531,\n",
              "  0.9810654520988464,\n",
              "  0.9967907667160034,\n",
              "  0.9983953833580017,\n",
              "  0.9983953833580017,\n",
              "  0.9990372061729431,\n",
              "  0.9987162947654724,\n",
              "  1.0,\n",
              "  1.0,\n",
              "  0.998074471950531,\n",
              "  0.9996790885925293,\n",
              "  1.0,\n",
              "  0.9971116781234741,\n",
              "  0.990693211555481,\n",
              "  0.9990372061729431,\n",
              "  1.0,\n",
              "  1.0,\n",
              "  0.9996790885925293,\n",
              "  0.9939024448394775,\n",
              "  0.9996790885925293,\n",
              "  1.0,\n",
              "  0.9993581771850586,\n",
              "  1.0,\n",
              "  1.0,\n",
              "  0.9884467124938965,\n",
              "  0.9996790885925293,\n",
              "  1.0,\n",
              "  0.9948652386665344,\n",
              "  1.0]}"
            ]
          },
          "metadata": {},
          "execution_count": 18
        }
      ]
    },
    {
      "cell_type": "code",
      "source": [
        "#Recording History in json\n",
        "import json\n",
        "with open('training_hist.json','w') as f:\n",
        "  json.dump(training_history.history,f)"
      ],
      "metadata": {
        "id": "aCDv4kYYf8sV"
      },
      "execution_count": 19,
      "outputs": []
    },
    {
      "cell_type": "code",
      "source": [
        "print(training_history.history.keys())"
      ],
      "metadata": {
        "colab": {
          "base_uri": "https://localhost:8080/"
        },
        "id": "akvxXEixldGR",
        "outputId": "9860f55a-b981-47e1-d3b4-f730aef4b229"
      },
      "execution_count": 20,
      "outputs": [
        {
          "output_type": "stream",
          "name": "stdout",
          "text": [
            "dict_keys(['loss', 'accuracy', 'val_loss', 'val_accuracy'])\n"
          ]
        }
      ]
    },
    {
      "cell_type": "markdown",
      "source": [
        "Calculating Accuracy of Model Achieved on Validation set"
      ],
      "metadata": {
        "id": "9L63XFfWlkwf"
      }
    },
    {
      "cell_type": "code",
      "source": [
        "training_history.history['val_accuracy']"
      ],
      "metadata": {
        "colab": {
          "base_uri": "https://localhost:8080/"
        },
        "id": "_F7GSRe7l6PR",
        "outputId": "d220ab18-9434-41a3-ae76-89f85347b6d8"
      },
      "execution_count": 21,
      "outputs": [
        {
          "output_type": "execute_result",
          "data": {
            "text/plain": [
              "[0.8973042368888855,\n",
              " 0.9451219439506531,\n",
              " 0.9810654520988464,\n",
              " 0.9967907667160034,\n",
              " 0.9983953833580017,\n",
              " 0.9983953833580017,\n",
              " 0.9990372061729431,\n",
              " 0.9987162947654724,\n",
              " 1.0,\n",
              " 1.0,\n",
              " 0.998074471950531,\n",
              " 0.9996790885925293,\n",
              " 1.0,\n",
              " 0.9971116781234741,\n",
              " 0.990693211555481,\n",
              " 0.9990372061729431,\n",
              " 1.0,\n",
              " 1.0,\n",
              " 0.9996790885925293,\n",
              " 0.9939024448394775,\n",
              " 0.9996790885925293,\n",
              " 1.0,\n",
              " 0.9993581771850586,\n",
              " 1.0,\n",
              " 1.0,\n",
              " 0.9884467124938965,\n",
              " 0.9996790885925293,\n",
              " 1.0,\n",
              " 0.9948652386665344,\n",
              " 1.0]"
            ]
          },
          "metadata": {},
          "execution_count": 21
        }
      ]
    },
    {
      "cell_type": "code",
      "source": [
        "# print the last one of the accuracy\n",
        "print(\"Validation set Accuracy: {} \".format(training_history.history['val_accuracy'][-1]))"
      ],
      "metadata": {
        "colab": {
          "base_uri": "https://localhost:8080/"
        },
        "id": "kaI7QhWtmhVh",
        "outputId": "732dbea9-fe32-4d28-c00d-07798ebba37c"
      },
      "execution_count": 24,
      "outputs": [
        {
          "output_type": "stream",
          "name": "stdout",
          "text": [
            "Validation set Accuracy: 1.0 \n"
          ]
        }
      ]
    },
    {
      "cell_type": "code",
      "source": [
        "print(\"Validation set Accuracy: {} %\".format(training_history.history['val_accuracy'][-1]*100))"
      ],
      "metadata": {
        "colab": {
          "base_uri": "https://localhost:8080/"
        },
        "id": "pDvakc2Slf9L",
        "outputId": "21a0c310-9155-4b05-bc14-ec7f6130d759"
      },
      "execution_count": 23,
      "outputs": [
        {
          "output_type": "stream",
          "name": "stdout",
          "text": [
            "Validation set Accuracy: 100.0 %\n"
          ]
        }
      ]
    },
    {
      "cell_type": "markdown",
      "source": [
        "#Accuracy Visualization"
      ],
      "metadata": {
        "id": "GAglZcBqr2a7"
      }
    },
    {
      "cell_type": "markdown",
      "source": [
        "Training Visualization"
      ],
      "metadata": {
        "id": "OEvee2p8sEPi"
      }
    },
    {
      "cell_type": "code",
      "source": [
        "#training_history.history['accuracy']\n",
        "epochs = [i for i in range(1,31)]\n",
        "plt.plot(epochs,training_history.history['accuracy'],color='red')\n",
        "plt.xlabel('No. of Epochs')\n",
        "plt.ylabel('Traiining Accuracy')\n",
        "plt.title('Visualization of Training Accuracy Result')\n",
        "plt.show()"
      ],
      "metadata": {
        "colab": {
          "base_uri": "https://localhost:8080/",
          "height": 472
        },
        "id": "XuWiuiWZreeW",
        "outputId": "0cce0071-ad67-4844-9073-65e802573ded"
      },
      "execution_count": 26,
      "outputs": [
        {
          "output_type": "display_data",
          "data": {
            "text/plain": [
              "<Figure size 640x480 with 1 Axes>"
            ],
            "image/png": "[encoded data removed]"
          },
          "metadata": {}
        }
      ]
    },
    {
      "cell_type": "markdown",
      "source": [
        "Validation Accuracy"
      ],
      "metadata": {
        "id": "U95RUE5HsmHO"
      }
    },
    {
      "cell_type": "code",
      "source": [
        "plt.plot(epochs,training_history.history['val_accuracy'],color='blue')\n",
        "plt.xlabel('No. of Epochs')\n",
        "plt.ylabel('Validation Accuracy')\n",
        "plt.title('Visualization of Validation Accuracy Result')\n",
        "plt.show()"
      ],
      "metadata": {
        "colab": {
          "base_uri": "https://localhost:8080/",
          "height": 472
        },
        "id": "MMIV9ItHrx1N",
        "outputId": "dff8951f-ea42-4512-bcb3-8a550f5a239f"
      },
      "execution_count": 27,
      "outputs": [
        {
          "output_type": "display_data",
          "data": {
            "text/plain": [
              "<Figure size 640x480 with 1 Axes>"
            ],
            "image/png": "[encoded data removed]"
          },
          "metadata": {}
        }
      ]
    },
    {
      "cell_type": "markdown",
      "source": [
        "#Evaluating Model"
      ],
      "metadata": {
        "id": "AqUiPQyDvyv9"
      }
    },
    {
      "cell_type": "markdown",
      "source": [
        "Training set Accuracy"
      ],
      "metadata": {
        "id": "byZdlDzEv72E"
      }
    },
    {
      "cell_type": "code",
      "source": [
        "train_loss, train_acc = cnn.evaluate(training_set)\n",
        "print('Training accuracy:', train_acc)"
      ],
      "metadata": {
        "colab": {
          "base_uri": "https://localhost:8080/"
        },
        "id": "p6aZ63wOwEIr",
        "outputId": "98d90327-cccf-4ead-a8dc-46d0746f77ce"
      },
      "execution_count": 28,
      "outputs": [
        {
          "output_type": "stream",
          "name": "stdout",
          "text": [
            "195/195 [==============================] - 30s 149ms/step - loss: 2.0738e-05 - accuracy: 1.0000\n",
            "Training accuracy: 1.0\n"
          ]
        }
      ]
    },
    {
      "cell_type": "markdown",
      "source": [
        "Validation set Accuracy"
      ],
      "metadata": {
        "id": "qdfL0KfsweS1"
      }
    },
    {
      "cell_type": "code",
      "source": [
        "val_loss, val_acc = cnn.evaluate(validation_set)\n",
        "print('Validation accuracy:', val_acc)"
      ],
      "metadata": {
        "colab": {
          "base_uri": "https://localhost:8080/"
        },
        "id": "R28k-pUJwj8y",
        "outputId": "ad8d07d0-1011-45cd-ac6f-36635e8459e4"
      },
      "execution_count": 29,
      "outputs": [
        {
          "output_type": "stream",
          "name": "stdout",
          "text": [
            "98/98 [==============================] - 15s 144ms/step - loss: 2.4550e-05 - accuracy: 1.0000\n",
            "Validation accuracy: 1.0\n"
          ]
        }
      ]
    },
    {
      "cell_type": "markdown",
      "source": [
        "#Reference"
      ],
      "metadata": {
        "id": "BaX-4-sx9swM"
      }
    },
    {
      "cell_type": "markdown",
      "source": [
        "Loading image(https://keras.io/api/data_loading/image/)"
      ],
      "metadata": {
        "id": "xSzBR2Gv9wGD"
      }
    },
    {
      "cell_type": "markdown",
      "source": [
        "Keras API:(https://keras.io/api/)"
      ],
      "metadata": {
        "id": "vHeIVMvC-IIL"
      }
    },
    {
      "cell_type": "markdown",
      "source": [
        "YouTube Video:(https://colab.research.google.com/drive/17kETWVFmRHi51eqZrrzhT1abUrjaH_VW#scrollTo=CKojr1SV-X76&line=1&uniqifier=1)"
      ],
      "metadata": {
        "id": "DTMkhrSl-xN-"
      }
    },
    {
      "cell_type": "code",
      "source": [],
      "metadata": {
        "id": "kQsvgS5Z-8xp"
      },
      "execution_count": null,
      "outputs": []
    }
  ]
}